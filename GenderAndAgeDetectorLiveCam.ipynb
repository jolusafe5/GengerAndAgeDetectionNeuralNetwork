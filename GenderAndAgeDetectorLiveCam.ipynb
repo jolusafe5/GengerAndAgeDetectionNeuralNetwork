{
 "cells": [
  {
   "cell_type": "markdown",
   "id": "contemporary-decision",
   "metadata": {},
   "source": [
    "#### Paquetes a instalar"
   ]
  },
  {
   "cell_type": "code",
   "execution_count": 5,
   "id": "quantitative-defense",
   "metadata": {},
   "outputs": [
    {
     "name": "stdout",
     "output_type": "stream",
     "text": [
      "Collecting cvlib\n",
      "  Downloading cvlib-0.2.6.tar.gz (10.0 MB)\n",
      "Requirement already satisfied: numpy in c:\\users\\sanchezj\\appdata\\local\\programs\\python\\python38\\lib\\site-packages (from cvlib) (1.19.5)\n",
      "Collecting progressbar\n",
      "  Downloading progressbar-2.5.tar.gz (10 kB)\n",
      "Requirement already satisfied: requests in c:\\users\\sanchezj\\appdata\\local\\programs\\python\\python38\\lib\\site-packages (from cvlib) (2.25.1)\n",
      "Requirement already satisfied: pillow in c:\\users\\sanchezj\\appdata\\local\\programs\\python\\python38\\lib\\site-packages (from cvlib) (8.1.2)\n",
      "Requirement already satisfied: imageio in c:\\users\\sanchezj\\appdata\\local\\programs\\python\\python38\\lib\\site-packages (from cvlib) (2.9.0)\n",
      "Collecting imutils\n",
      "  Downloading imutils-0.5.4.tar.gz (17 kB)\n",
      "Requirement already satisfied: chardet<5,>=3.0.2 in c:\\users\\sanchezj\\appdata\\local\\programs\\python\\python38\\lib\\site-packages (from requests->cvlib) (4.0.0)\n",
      "Requirement already satisfied: certifi>=2017.4.17 in c:\\users\\sanchezj\\appdata\\local\\programs\\python\\python38\\lib\\site-packages (from requests->cvlib) (2020.12.5)\n",
      "Requirement already satisfied: urllib3<1.27,>=1.21.1 in c:\\users\\sanchezj\\appdata\\local\\programs\\python\\python38\\lib\\site-packages (from requests->cvlib) (1.26.3)\n",
      "Requirement already satisfied: idna<3,>=2.5 in c:\\users\\sanchezj\\appdata\\local\\programs\\python\\python38\\lib\\site-packages (from requests->cvlib) (2.10)\n",
      "Building wheels for collected packages: cvlib, imutils, progressbar\n",
      "  Building wheel for cvlib (setup.py): started\n",
      "  Building wheel for cvlib (setup.py): finished with status 'done'\n",
      "  Created wheel for cvlib: filename=cvlib-0.2.6-py3-none-any.whl size=10044621 sha256=e930b65fea7b631d4060384ff3bf393ed6ea315cd81db9f44f58ddee1e15d0e5\n",
      "  Stored in directory: c:\\users\\sanchezj\\appdata\\local\\pip\\cache\\wheels\\ab\\cb\\f5\\2d027cae91342418d4a84c6955d080c2e361b60bb72db3f71c\n",
      "  Building wheel for imutils (setup.py): started\n",
      "  Building wheel for imutils (setup.py): finished with status 'done'\n",
      "  Created wheel for imutils: filename=imutils-0.5.4-py3-none-any.whl size=25860 sha256=71ada92292d55ac634e3b6ad0308de661d050ff1ebdcb320fd46e0b3adc1ef07\n",
      "  Stored in directory: c:\\users\\sanchezj\\appdata\\local\\pip\\cache\\wheels\\59\\1b\\52\\0dea905f8278d5514dc4d0be5e251967f8681670cadd3dca89\n",
      "  Building wheel for progressbar (setup.py): started\n",
      "  Building wheel for progressbar (setup.py): finished with status 'done'\n",
      "  Created wheel for progressbar: filename=progressbar-2.5-py3-none-any.whl size=12075 sha256=0f444f6ad97b00802c0d156d9c47bc5e5def8db57063092c8b28e8bdc2eaf9bb\n",
      "  Stored in directory: c:\\users\\sanchezj\\appdata\\local\\pip\\cache\\wheels\\2c\\67\\ed\\d84123843c937d7e7f5ba88a270d11036473144143355e2747\n",
      "Successfully built cvlib imutils progressbar\n",
      "Installing collected packages: progressbar, imutils, cvlib\n",
      "Successfully installed cvlib-0.2.6 imutils-0.5.4 progressbar-2.5\n",
      "Note: you may need to restart the kernel to use updated packages.\n"
     ]
    }
   ],
   "source": [
    "pip install cvlib"
   ]
  },
  {
   "cell_type": "code",
   "execution_count": 3,
   "id": "lovely-bolivia",
   "metadata": {},
   "outputs": [],
   "source": [
    "#Importamos las librerias para procesamiento de imagenes\n",
    "from tensorflow.keras.preprocessing.image import img_to_array\n",
    "from tensorflow.keras.models import load_model\n",
    "import numpy as np\n",
    "import cv2\n",
    "import os\n",
    "import cvlib as cv"
   ]
  },
  {
   "cell_type": "code",
   "execution_count": 4,
   "id": "negative-ghana",
   "metadata": {},
   "outputs": [],
   "source": [
    "IMG_DIMS=(96,96,3)\n",
    "\n",
    "def convertImageToSingleArray (image):\n",
    "    image=image.reshape(1,IMG_DIMS[0]*IMG_DIMS[1]*IMG_DIMS[2])\n",
    "    return image\n"
   ]
  },
  {
   "cell_type": "code",
   "execution_count": null,
   "id": "functional-baker",
   "metadata": {},
   "outputs": [],
   "source": []
  },
  {
   "cell_type": "code",
   "execution_count": null,
   "id": "filled-supervision",
   "metadata": {},
   "outputs": [],
   "source": [
    "#Cargamos el Modelo de Detecciòn de Gènero que generamos.\n",
    "model = load_model ('gender_detection.model')\n",
    "\n",
    "#Activamos la càmara web\n",
    "webcam = cv2.VideoCapture(0)\n",
    "\n",
    "classes = ['man','woman']\n",
    "\n",
    "#Recorremos los frames en un loop\n",
    "while (webcam.isOpened()):\n",
    "    #leemos el frame de la webcam\n",
    "    status,frame = webcam.read()\n",
    "    \n",
    "    #Usamos la utileria para la detecciòn de caras\n",
    "    face, confidence = cv.detect_face(frame)\n",
    "    \n",
    "    #Recorremos en un loop las caras detectadas\n",
    "    for idx,f in enumerate(face):\n",
    "        \n",
    "        # obtenemos los puntos de la esquina del rectangulo de la cara\n",
    "        (startX,startY) = f[0],f[1]\n",
    "        (endX,endY) = f[2],f[3]\n",
    "        \n",
    "        cv2.rectangle(frame,(startX,startY),(endX,endY),(0,255,0),2) #Dibujamos un rectangulo sobre la cara detectada\n",
    "        \n",
    "#        face_crop = np.copy(frame[startY:endY,startX:endX]) #Recortamos la seccion de la cara identificada\n",
    "        #<>\n",
    "#        if ((face_crop.shape[0])<10 or (face_crop.shape[1])<10):\n",
    "#            continue\n",
    "            \n",
    "        #preprocessing for gender detection model\n",
    "#        face_crop=cv2.resize(face_crop,(96,96))\n",
    "#        face_crop=face_crop.astype(\"float\")/255.0\n",
    "#        face_crop = img_to_array(face_crop)\n",
    "#        face_crop = np.expand_dims(face_crop,axis=0)\n",
    "        \n",
    "        #Se aplica la detecciòn de gènero sobre la cara detectada\n",
    "#        conf = model.predict(convertImageToSingleArray(face_crop))[0] # la predicciòn va  a regresar una matriz 2D\n",
    "        \n",
    "        #Se obtiene la etiqueta con el accuracy màximo\n",
    "#        idx = np.argmax(conf)\n",
    "#        label = classes[idx]\n",
    "        \n",
    "#        identificationLabel= \"{}: {:.2f}%\".format(label,conf[idx]*100)\n",
    "        \n",
    "#        Y=startY -10 if (startY -10 > 10 ) else (startY + 10)\n",
    "        \n",
    "        #Se escribe la etiqueta y el accuracy sobre el rectangulo de la cara detectada\n",
    "#        cv2.putText(frame, label,(startX,Y),cv2.FONT_HERSHEY_SIMPLEX,0.7,(0,255,0),2)\n",
    "        \n",
    "    #Se muestra la salida\n",
    "    cv2.imshow(\"Detecciòn de Gènero\", frame)\n",
    "    \n",
    "    #Para salir presionamos Q\n",
    "    #if (cv2.waitKey(1)& 0xFF == ord('q')):\n",
    "     #   break\n",
    "        \n",
    "    #Liberamos la conexiòn a la càmara que abrimos\n",
    "   # webcam.release()\n",
    "    #cv2.destroyAllWindows()"
   ]
  },
  {
   "cell_type": "code",
   "execution_count": null,
   "id": "fleet-family",
   "metadata": {},
   "outputs": [],
   "source": [
    "    webcam.release()\n",
    "    cv2.destroyAllWindows()"
   ]
  }
 ],
 "metadata": {
  "kernelspec": {
   "display_name": "env_ia",
   "language": "python",
   "name": "env_ia"
  },
  "language_info": {
   "codemirror_mode": {
    "name": "ipython",
    "version": 3
   },
   "file_extension": ".py",
   "mimetype": "text/x-python",
   "name": "python",
   "nbconvert_exporter": "python",
   "pygments_lexer": "ipython3",
   "version": "3.8.8"
  }
 },
 "nbformat": 4,
 "nbformat_minor": 5
}
