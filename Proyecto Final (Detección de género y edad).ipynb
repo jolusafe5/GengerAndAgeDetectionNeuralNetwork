{
 "cells": [
  {
   "cell_type": "markdown",
   "metadata": {},
   "source": [
    "# Proyecto de Aplicación Final\n",
    "\n",
    "## Detección de género y edad\n",
    "\n",
    "Se desea obtener un modelo de inteligencia artificial para identificar con precisión el género y la edad de una persona a partir de una sola imagen de un rostro. El género predicho puede ser uno de 'Masculino' y 'Femenino', y la edad predicha puede ser uno de los siguientes rangos: (0 - 2), (4 - 6), (8 - 12), (15 - 20) , (25 - 32), (38 - 43), (48 - 53), (60 - 100) (8 nodos en la capa final softmax). Es muy difícil adivinar con precisión una edad exacta a partir de una sola imagen debido a factores como el maquillaje, la iluminación, las obstrucciones y las expresiones faciales. Entonces, hacemos de esto un problema de clasificación en lugar de convertirlo en uno de regresión.[datset](https://fei.edu.br/~cet/facedatabase.html),  [dataset_genero](http://vis-www.cs.umass.edu/lfw/#download)\n",
    "\n",
    "-\tEntrenar la red y visualizar gráficamente el progreso del *accuracy* tanto del conjunto de entrenamiento como del conjunto de validación. \n",
    "\n",
    "-\tProbar con distintas configuraciones de hiperparámetros para escoger la que mejor resultados ofrezca.\n",
    "\n",
    "-\t*Categorical cross entropy* es una función de pérdida similar a la MSE. Explicar cómo y por qué funciona esta función de pérdida.\n",
    "\n",
    "\n",
    "### Condiciones de la entrega:\n",
    "\n",
    "-\tEl proyecto se hará en equipo. \n",
    "\n",
    "-\tDeberán subirse a la plataforma de ALINCO un archivo .zip con el código del proyecto, diapositivas y un reporte del proyecto. \n",
    "\n",
    "-\tEl código y su funcionamiento se presentarán en una videollamada. \n",
    "\n",
    "## Bibliografía\n",
    "\n",
    "[trabajo de tesis 1](http://bibing.us.es/proyectos/abreproy/90323/fichero/TFG+Elena+Via%C3%B1a+Jorge.pdf+)\n",
    "\n",
    "[trabajo de tesis 2](https://riuma.uma.es/xmlui/bitstream/handle/10630/15226/Memoria.pdf?sequence=1&isAllowed=y)\n"
   ]
  },
  {
   "cell_type": "markdown",
   "metadata": {},
   "source": [
    "### Modelo para identificaciòn de Genero\n",
    "#### 1.- Se descargò el dataset\n",
    "#### 2.- Se separaron las imagenes de hombres y mujeres en diferentes carpetas"
   ]
  }
 ],
 "metadata": {
  "kernelspec": {
   "display_name": "Python 3",
   "language": "python",
   "name": "python3"
  },
  "language_info": {
   "codemirror_mode": {
    "name": "ipython",
    "version": 3
   },
   "file_extension": ".py",
   "mimetype": "text/x-python",
   "name": "python",
   "nbconvert_exporter": "python",
   "pygments_lexer": "ipython3",
   "version": "3.8.8"
  }
 },
 "nbformat": 4,
 "nbformat_minor": 4
}
