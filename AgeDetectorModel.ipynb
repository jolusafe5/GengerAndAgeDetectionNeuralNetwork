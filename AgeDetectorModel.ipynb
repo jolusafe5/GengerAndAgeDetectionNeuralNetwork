{
 "cells": [
  {
   "cell_type": "markdown",
   "id": "advisory-butterfly",
   "metadata": {},
   "source": [
    "### Paquetes a instalar"
   ]
  },
  {
   "cell_type": "code",
   "execution_count": 1,
   "id": "waiting-wrapping",
   "metadata": {},
   "outputs": [],
   "source": [
    "#pip install opencv-python"
   ]
  },
  {
   "cell_type": "markdown",
   "id": "imported-budget",
   "metadata": {},
   "source": [
    "### Importando librerias para procesamiento de imagenes"
   ]
  },
  {
   "cell_type": "code",
   "execution_count": 2,
   "id": "human-privilege",
   "metadata": {},
   "outputs": [],
   "source": [
    "#Importar Keras Sklearn\n",
    "from tensorflow.keras.preprocessing.image import ImageDataGenerator\n",
    "from tensorflow.keras.optimizers import Adam\n",
    "from tensorflow.keras.preprocessing.image import img_to_array\n",
    "from tensorflow.keras.utils import to_categorical, plot_model\n",
    "from tensorflow.keras.models import Sequential\n",
    "from tensorflow.keras.layers import BatchNormalization, Conv2D, MaxPooling2D, Activation, Flatten, Dropout, Dense\n",
    "from tensorflow.keras import backend as K\n",
    "from sklearn.model_selection import train_test_split\n",
    "\n",
    "import matplotlib.pyplot as plt\n",
    "import numpy as np\n",
    "import random\n",
    "import cvlib as cv\n",
    "import cv2\n",
    "import os\n",
    "import glob\n",
    "import keras"
   ]
  },
  {
   "cell_type": "markdown",
   "id": "involved-norfolk",
   "metadata": {},
   "source": [
    "##### Configurar parametros de nuestra red nueronal"
   ]
  },
  {
   "cell_type": "code",
   "execution_count": 3,
   "id": "designing-rehabilitation",
   "metadata": {},
   "outputs": [],
   "source": [
    "EPOCS=100\n",
    "LR=1 #1e-3\n",
    "BATCH_SIZE = 16\n",
    "IMG_DIMS=(96,96,3)\n",
    "IMG_TOTAL_PIXELS=IMG_DIMS[0]*IMG_DIMS[1]*IMG_DIMS[2]"
   ]
  },
  {
   "cell_type": "code",
   "execution_count": 4,
   "id": "equal-republican",
   "metadata": {},
   "outputs": [],
   "source": [
    "data=[]\n",
    "labels=[]"
   ]
  },
  {
   "cell_type": "markdown",
   "id": "decreased-thursday",
   "metadata": {},
   "source": [
    "### Cargar imàgenes del dataset\n",
    "#### Cargamos primero las imagenes de mujeres y su etiqueta de mujer\n",
    "#### Cargamos las imagenes de hombres y su etiqueta de hombre"
   ]
  },
  {
   "cell_type": "code",
   "execution_count": 5,
   "id": "unsigned-south",
   "metadata": {},
   "outputs": [],
   "source": [
    "image_files_ages_0_2 = [f for f in glob.glob('Age/ages_ranges/__0and2__'+\"/*/*\",recursive=True) if not os.path.isdir(f)]\n",
    "#image_files_ages_0_2\n",
    "\n",
    "image_files_ages_4_6 = [f for f in glob.glob('Age/ages_ranges/__4and6__'+\"/*/*\",recursive=True) if not os.path.isdir(f)]\n",
    "#image_files_ages_4_6\n",
    "\n",
    "image_files_ages_8_12 = [f for f in glob.glob('Age/ages_ranges/__8and12__'+\"/*/*\",recursive=True) if not os.path.isdir(f)]\n",
    "#image_files_ages_8_12\n",
    "\n",
    "image_files_ages_15_20 = [f for f in glob.glob('Age/ages_ranges/__15and20__'+\"/*/*\",recursive=True) if not os.path.isdir(f)]\n",
    "#image_files_ages_15_20\n",
    "\n",
    "image_files_ages_25_32 = [f for f in glob.glob('Age/ages_ranges/__25and32__'+\"/*/*\",recursive=True) if not os.path.isdir(f)]\n",
    "#image_files_ages_25_32\n",
    "\n",
    "image_files_ages_38_43 = [f for f in glob.glob('Age/ages_ranges/__38and43__'+\"/*\",recursive=True) if not os.path.isdir(f)]\n",
    "#image_files_ages_38_43\n",
    "\n",
    "image_files_ages_48_53 = [f for f in glob.glob('Age/ages_ranges/__48and53__'+\"/*\",recursive=True) if not os.path.isdir(f)]\n",
    "#image_files_ages_48_53\n",
    "\n",
    "image_files_ages_60_100 = [f for f in glob.glob('Age/ages_ranges/__60and100__'+\"/*\",recursive=True) if not os.path.isdir(f)]\n",
    "#image_files_ages_60_100"
   ]
  },
  {
   "cell_type": "code",
   "execution_count": null,
   "id": "collectible-canada",
   "metadata": {},
   "outputs": [],
   "source": []
  },
  {
   "cell_type": "code",
   "execution_count": null,
   "id": "enabling-printer",
   "metadata": {},
   "outputs": [],
   "source": []
  },
  {
   "cell_type": "code",
   "execution_count": null,
   "id": "occasional-observation",
   "metadata": {},
   "outputs": [],
   "source": []
  },
  {
   "cell_type": "code",
   "execution_count": 6,
   "id": "micro-hindu",
   "metadata": {},
   "outputs": [],
   "source": [
    "def categorizeImageFilesByNameFormat(image_files):\n",
    "    #Age/UTKFace/part1\\\\100_1_0_20170110183726390.jpg\n",
    "    file_name=image_files.split('\\\\')[1]\n",
    "    #print ('file_name: ', file_name)\n",
    "    age_format=file_name.split('_')[0]\n",
    "    #print(\"Age detected \", age_format)\n",
    "    return int(age_format)"
   ]
  },
  {
   "cell_type": "code",
   "execution_count": 7,
   "id": "needed-warning",
   "metadata": {},
   "outputs": [],
   "source": [
    "def categorizeImageFilesByPathFormat(image_files):\n",
    "    #Age/Kaggle/face_age\\\\001\\\\1118.png\n",
    "    age_format_file=image_files.split('\\\\')[1]\n",
    "    #print ('file_name: ', age_format_file)\n",
    "    return int(age_format_file)"
   ]
  },
  {
   "cell_type": "code",
   "execution_count": 8,
   "id": "absolute-appliance",
   "metadata": {},
   "outputs": [],
   "source": [
    "def roiCropImages(imageRaw):\n",
    "    roiFace, confidence= cv.detect_face(imageRaw)\n",
    "    for idx,f in enumerate(roiFace):\n",
    "        \n",
    "        # obtenemos los puntos de la esquina del rectangulo de la cara\n",
    "        (startX,startY) = f[0],f[1]\n",
    "        (endX,endY) = f[2],f[3]\n",
    "        \n",
    "        face_crop = np.copy(imageRaw[startY:endY,startX:endX]) #Recortamos la seccion de la cara identificada\n",
    "        if ((face_crop.shape[0])<10 or (face_crop.shape[1])<10):\n",
    "            continue\n",
    "        return face_crop,True\n",
    "    return [],False\n",
    "    "
   ]
  },
  {
   "cell_type": "code",
   "execution_count": 9,
   "id": "metallic-darwin",
   "metadata": {},
   "outputs": [],
   "source": [
    "def create_age_data(image_files,labels,data):\n",
    "    for img in image_files:\n",
    "        image=cv2.imread(img)\n",
    "        #print(\"Image file\",img)\n",
    "        image,found= roiCropImages(image)\n",
    "        if (found):\n",
    "            #print(image)\n",
    "            image = cv2.resize(image,(IMG_DIMS[0],IMG_DIMS[1]))\n",
    "            image = img_to_array(image)\n",
    "            data.append(image)\n",
    "            if ('UTKFace' in img):\n",
    "                labels.append(categorizeImageFilesByNameFormat(img))\n",
    "            elif ('face_age' in img):\n",
    "                labels.append(categorizeImageFilesByPathFormat(img))"
   ]
  },
  {
   "cell_type": "code",
   "execution_count": 10,
   "id": "brutal-grade",
   "metadata": {},
   "outputs": [],
   "source": [
    "def create_gender_data_by_label(image_files,labels,label,data):\n",
    "    for img in image_files:\n",
    "        image=cv2.imread(img)\n",
    "        #print(\"Image file\",img)\n",
    "        image,found= roiCropImages(image)\n",
    "        if (found):\n",
    "            #print(image)\n",
    "            image = cv2.resize(image,(IMG_DIMS[0],IMG_DIMS[1]))\n",
    "            #image = cv2.Canny(img,100,200)\n",
    "            image = img_to_array(image)\n",
    "            data.append(image)\n",
    "            labels.append(label)"
   ]
  },
  {
   "cell_type": "code",
   "execution_count": 11,
   "id": "academic-excess",
   "metadata": {},
   "outputs": [],
   "source": [
    "#create_age_data(image_files_source_utk,labels,data)\n",
    "#create_age_data(image_files_source_faceage,labels,data)\n",
    "create_gender_data_by_label(image_files_ages_0_2,labels,'0_2',data) \n",
    "create_gender_data_by_label(image_files_ages_4_6,labels,'4_6',data) \n",
    "create_gender_data_by_label(image_files_ages_8_12,labels,'8_12',data) \n",
    "create_gender_data_by_label(image_files_ages_15_20,labels,'15_20',data) \n",
    "create_gender_data_by_label(image_files_ages_25_32,labels,'25_32',data) \n",
    "create_gender_data_by_label(image_files_ages_38_43,labels,'38_43',data) \n",
    "create_gender_data_by_label(image_files_ages_48_53,labels,'48_53',data) \n",
    "create_gender_data_by_label(image_files_ages_60_100,labels,'60_100',data) \n"
   ]
  },
  {
   "cell_type": "code",
   "execution_count": 12,
   "id": "empirical-recruitment",
   "metadata": {
    "scrolled": false
   },
   "outputs": [],
   "source": [
    "#data"
   ]
  },
  {
   "cell_type": "code",
   "execution_count": 13,
   "id": "eleven-qatar",
   "metadata": {},
   "outputs": [],
   "source": [
    "#labels"
   ]
  },
  {
   "cell_type": "code",
   "execution_count": null,
   "id": "continent-intervention",
   "metadata": {},
   "outputs": [],
   "source": []
  },
  {
   "cell_type": "markdown",
   "id": "cardiovascular-cartoon",
   "metadata": {},
   "source": [
    "### PRE PROCESAMIENTO"
   ]
  },
  {
   "cell_type": "code",
   "execution_count": 14,
   "id": "changing-allocation",
   "metadata": {},
   "outputs": [],
   "source": [
    "data = np.array(data,dtype=\"float\")/255.0\n",
    "#data = np.array(data)\n",
    "#data=data / 255.0\n",
    "labels = np.array(labels)\n",
    "#data"
   ]
  },
  {
   "cell_type": "code",
   "execution_count": 15,
   "id": "dramatic-nevada",
   "metadata": {},
   "outputs": [
    {
     "data": {
      "text/plain": [
       "array(['0_2', '0_2', '0_2', ..., '60_100', '60_100', '60_100'],\n",
       "      dtype='<U6')"
      ]
     },
     "execution_count": 15,
     "metadata": {},
     "output_type": "execute_result"
    }
   ],
   "source": [
    "labels"
   ]
  },
  {
   "cell_type": "code",
   "execution_count": 16,
   "id": "minus-gentleman",
   "metadata": {},
   "outputs": [
    {
     "data": {
      "text/plain": [
       "(12539,)"
      ]
     },
     "execution_count": 16,
     "metadata": {},
     "output_type": "execute_result"
    }
   ],
   "source": [
    "labels.shape"
   ]
  },
  {
   "cell_type": "code",
   "execution_count": 17,
   "id": "silver-passport",
   "metadata": {},
   "outputs": [
    {
     "data": {
      "text/plain": [
       "12539"
      ]
     },
     "execution_count": 17,
     "metadata": {},
     "output_type": "execute_result"
    }
   ],
   "source": [
    "len(labels)"
   ]
  },
  {
   "cell_type": "code",
   "execution_count": 18,
   "id": "accomplished-italian",
   "metadata": {},
   "outputs": [
    {
     "data": {
      "text/plain": [
       "array(['0_2', '15_20', '25_32', '38_43', '48_53', '4_6', '60_100', '8_12'],\n",
       "      dtype='<U6')"
      ]
     },
     "execution_count": 18,
     "metadata": {},
     "output_type": "execute_result"
    }
   ],
   "source": [
    "np.unique(labels)"
   ]
  },
  {
   "cell_type": "code",
   "execution_count": null,
   "id": "monetary-edgar",
   "metadata": {},
   "outputs": [],
   "source": []
  },
  {
   "cell_type": "code",
   "execution_count": 19,
   "id": "complex-street",
   "metadata": {},
   "outputs": [
    {
     "data": {
      "text/plain": [
       "(12539, 96, 96, 3)"
      ]
     },
     "execution_count": 19,
     "metadata": {},
     "output_type": "execute_result"
    }
   ],
   "source": [
    "data.shape"
   ]
  },
  {
   "cell_type": "code",
   "execution_count": 20,
   "id": "geological-cocktail",
   "metadata": {},
   "outputs": [],
   "source": [
    "# Revolvemos las muestras con la herramienta sklearn.utils shuffle\n",
    "from sklearn.utils import shuffle\n",
    "data, labels = shuffle(data, labels)"
   ]
  },
  {
   "cell_type": "code",
   "execution_count": 21,
   "id": "fatal-domain",
   "metadata": {},
   "outputs": [
    {
     "data": {
      "text/plain": [
       "array(['4_6', '8_12', '60_100', ..., '25_32', '48_53', '60_100'],\n",
       "      dtype='<U6')"
      ]
     },
     "execution_count": 21,
     "metadata": {},
     "output_type": "execute_result"
    }
   ],
   "source": [
    "labels"
   ]
  },
  {
   "cell_type": "code",
   "execution_count": 22,
   "id": "southwest-drain",
   "metadata": {},
   "outputs": [
    {
     "data": {
      "text/plain": [
       "array([[[0.60392157, 0.6       , 0.7372549 ],\n",
       "        [0.56862745, 0.57254902, 0.71764706],\n",
       "        [0.55294118, 0.56470588, 0.71372549],\n",
       "        ...,\n",
       "        [0.1254902 , 0.12156863, 0.16470588],\n",
       "        [0.10196078, 0.09803922, 0.14901961],\n",
       "        [0.16862745, 0.17647059, 0.22745098]],\n",
       "\n",
       "       [[0.61568627, 0.61568627, 0.77647059],\n",
       "        [0.59215686, 0.6       , 0.76470588],\n",
       "        [0.56078431, 0.58039216, 0.74509804],\n",
       "        ...,\n",
       "        [0.14117647, 0.13333333, 0.18823529],\n",
       "        [0.13333333, 0.1372549 , 0.2       ],\n",
       "        [0.23137255, 0.25098039, 0.31764706]],\n",
       "\n",
       "       [[0.59607843, 0.61568627, 0.77647059],\n",
       "        [0.58823529, 0.61568627, 0.77647059],\n",
       "        [0.55686275, 0.58823529, 0.74509804],\n",
       "        ...,\n",
       "        [0.14509804, 0.14117647, 0.20392157],\n",
       "        [0.16470588, 0.17647059, 0.25490196],\n",
       "        [0.30196078, 0.32941176, 0.41568627]],\n",
       "\n",
       "       ...,\n",
       "\n",
       "       [[0.23529412, 0.25098039, 0.34509804],\n",
       "        [0.23137255, 0.25098039, 0.33333333],\n",
       "        [0.23137255, 0.25098039, 0.33333333],\n",
       "        ...,\n",
       "        [0.85882353, 0.92156863, 0.98431373],\n",
       "        [0.8627451 , 0.92941176, 0.98431373],\n",
       "        [0.87058824, 0.9372549 , 0.98823529]],\n",
       "\n",
       "       [[0.2627451 , 0.27843137, 0.37254902],\n",
       "        [0.25490196, 0.2745098 , 0.36078431],\n",
       "        [0.25490196, 0.2745098 , 0.35686275],\n",
       "        ...,\n",
       "        [0.85882353, 0.92156863, 0.98431373],\n",
       "        [0.8627451 , 0.92941176, 0.98431373],\n",
       "        [0.87058824, 0.9372549 , 0.98823529]],\n",
       "\n",
       "       [[0.27843137, 0.30196078, 0.39215686],\n",
       "        [0.2745098 , 0.29803922, 0.38823529],\n",
       "        [0.27058824, 0.29411765, 0.37647059],\n",
       "        ...,\n",
       "        [0.85882353, 0.92156863, 0.98431373],\n",
       "        [0.8627451 , 0.92941176, 0.98431373],\n",
       "        [0.87058824, 0.9372549 , 0.98823529]]])"
      ]
     },
     "execution_count": 22,
     "metadata": {},
     "output_type": "execute_result"
    }
   ],
   "source": [
    "data[1]"
   ]
  },
  {
   "cell_type": "code",
   "execution_count": 23,
   "id": "floral-services",
   "metadata": {},
   "outputs": [
    {
     "data": {
      "image/png": "[encoded data removed]",
      "text/plain": [
       "<Figure size 432x288 with 1 Axes>"
      ]
     },
     "metadata": {
      "needs_background": "light"
     },
     "output_type": "display_data"
    }
   ],
   "source": [
    "#Veamos la imagen #.astype('uint8')\n",
    "test_image=np.array(data[1],dtype='float32')\n",
    "plt.axis(\"off\")\n",
    "plt.imshow(cv2.cvtColor(test_image, cv2.COLOR_BGR2RGB))\n",
    "plt.show()\n"
   ]
  },
  {
   "cell_type": "markdown",
   "id": "loving-dress",
   "metadata": {},
   "source": [
    "### Dividir el dataset para el entrenamiento y la validaciòn"
   ]
  },
  {
   "cell_type": "code",
   "execution_count": 24,
   "id": "indian-strike",
   "metadata": {},
   "outputs": [
    {
     "data": {
      "text/plain": [
       "array(['4_6', '8_12', '60_100', ..., '25_32', '48_53', '60_100'],\n",
       "      dtype='<U6')"
      ]
     },
     "execution_count": 24,
     "metadata": {},
     "output_type": "execute_result"
    }
   ],
   "source": [
    "labels"
   ]
  },
  {
   "cell_type": "code",
   "execution_count": 25,
   "id": "specific-series",
   "metadata": {},
   "outputs": [
    {
     "data": {
      "text/plain": [
       "8"
      ]
     },
     "execution_count": 25,
     "metadata": {},
     "output_type": "execute_result"
    }
   ],
   "source": [
    "len(np.unique(labels))"
   ]
  },
  {
   "cell_type": "code",
   "execution_count": null,
   "id": "appointed-rugby",
   "metadata": {},
   "outputs": [],
   "source": []
  },
  {
   "cell_type": "code",
   "execution_count": null,
   "id": "hybrid-canada",
   "metadata": {},
   "outputs": [],
   "source": []
  },
  {
   "cell_type": "code",
   "execution_count": 26,
   "id": "limited-expert",
   "metadata": {},
   "outputs": [
    {
     "data": {
      "text/plain": [
       "array([5, 7, 6, ..., 2, 4, 6], dtype=int64)"
      ]
     },
     "execution_count": 26,
     "metadata": {},
     "output_type": "execute_result"
    }
   ],
   "source": [
    "#Tranformar las etiquetas 'man y 'woman' a enteros\n",
    "from sklearn.preprocessing import LabelEncoder\n",
    "\n",
    "encoder = LabelEncoder()\n",
    "labels = encoder.fit_transform(labels)\n",
    "labels"
   ]
  },
  {
   "cell_type": "code",
   "execution_count": 27,
   "id": "forbidden-profile",
   "metadata": {},
   "outputs": [
    {
     "data": {
      "text/plain": [
       "array(['0_2', '15_20', '25_32', '38_43', '48_53', '4_6', '60_100', '8_12'],\n",
       "      dtype='<U6')"
      ]
     },
     "execution_count": 27,
     "metadata": {},
     "output_type": "execute_result"
    }
   ],
   "source": [
    "encoder.classes_"
   ]
  },
  {
   "cell_type": "markdown",
   "id": "nuclear-passing",
   "metadata": {},
   "source": [
    "#### 0 - 0_2\n",
    "#### 1 - 15_20\n",
    "#### 2 - 25_32\n",
    "#### 3 - 38_43\n",
    "#### 4 - 48_53\n",
    "#### 5 - 4_6\n",
    "#### 6 - 60_100\n",
    "#### 7 - 8_12"
   ]
  },
  {
   "cell_type": "code",
   "execution_count": 28,
   "id": "characteristic-crystal",
   "metadata": {},
   "outputs": [
    {
     "data": {
      "text/plain": [
       "8"
      ]
     },
     "execution_count": 28,
     "metadata": {},
     "output_type": "execute_result"
    }
   ],
   "source": [
    "len(np.unique(labels))#Hay 8 clases"
   ]
  },
  {
   "cell_type": "code",
   "execution_count": 29,
   "id": "religious-nepal",
   "metadata": {},
   "outputs": [
    {
     "data": {
      "text/plain": [
       "array([0, 1, 2, 3, 4, 5, 6, 7], dtype=int64)"
      ]
     },
     "execution_count": 29,
     "metadata": {},
     "output_type": "execute_result"
    }
   ],
   "source": [
    "np.unique(labels)"
   ]
  },
  {
   "cell_type": "code",
   "execution_count": 30,
   "id": "separate-subsection",
   "metadata": {},
   "outputs": [
    {
     "data": {
      "text/plain": [
       "array([0, 1, 2, 3, 4, 5, 6, 7], dtype=int64)"
      ]
     },
     "execution_count": 30,
     "metadata": {},
     "output_type": "execute_result"
    }
   ],
   "source": [
    "encoded_values = np.array(np.unique(labels))\n",
    "encoded_values"
   ]
  },
  {
   "cell_type": "code",
   "execution_count": 31,
   "id": "polyphonic-cambodia",
   "metadata": {},
   "outputs": [],
   "source": [
    "(x_train,x_test,y_train,y_test) = train_test_split(data,labels,test_size=0.2,random_state=42)\n",
    "\n"
   ]
  },
  {
   "cell_type": "code",
   "execution_count": null,
   "id": "indoor-worker",
   "metadata": {},
   "outputs": [],
   "source": []
  },
  {
   "cell_type": "code",
   "execution_count": 32,
   "id": "changing-gentleman",
   "metadata": {},
   "outputs": [
    {
     "name": "stdout",
     "output_type": "stream",
     "text": [
      "Label  0\n",
      "Label example 0\n",
      "Label  1\n",
      "Label example 33\n",
      "Label  2\n",
      "Label example 39\n",
      "Label  3\n",
      "Label example 110\n",
      "Label  4\n",
      "Label example 137\n",
      "Label  5\n",
      "Label example 140\n",
      "Label  6\n",
      "Label example 146\n",
      "Label  7\n",
      "Label example 149\n"
     ]
    }
   ],
   "source": [
    "j=0\n",
    "for label in (np.unique(labels)) :\n",
    "    found = False\n",
    "    print(\"Label \" , label)\n",
    "    while (not found):\n",
    "        #print(\"y_train \", y_train[j])\n",
    "        if (y_train[j]==label):\n",
    "            found=True\n",
    "            print(\"Label example\", j)\n",
    "        j=j+1"
   ]
  },
  {
   "cell_type": "code",
   "execution_count": 33,
   "id": "personal-alberta",
   "metadata": {},
   "outputs": [],
   "source": [
    "y_train = keras.utils.to_categorical(y_train,len(np.unique(labels)))\n",
    "y_test = keras.utils.to_categorical(y_test,len(np.unique(labels)))"
   ]
  },
  {
   "cell_type": "code",
   "execution_count": 34,
   "id": "offensive-dividend",
   "metadata": {},
   "outputs": [
    {
     "data": {
      "text/plain": [
       "0.0"
      ]
     },
     "execution_count": 34,
     "metadata": {},
     "output_type": "execute_result"
    }
   ],
   "source": [
    "y_train.min() ## Tenemos en el entrenamiento la etiqueta mìnima 0"
   ]
  },
  {
   "cell_type": "code",
   "execution_count": 35,
   "id": "initial-swedish",
   "metadata": {},
   "outputs": [
    {
     "data": {
      "text/plain": [
       "1.0"
      ]
     },
     "execution_count": 35,
     "metadata": {},
     "output_type": "execute_result"
    }
   ],
   "source": [
    "y_train.max() ## Tenemos en el entrenamiento la etiqueta mìnima 1"
   ]
  },
  {
   "cell_type": "code",
   "execution_count": 36,
   "id": "antique-development",
   "metadata": {},
   "outputs": [
    {
     "data": {
      "text/plain": [
       "array([[1., 0., 0., ..., 0., 0., 0.],\n",
       "       [1., 0., 0., ..., 0., 0., 0.],\n",
       "       [1., 0., 0., ..., 0., 0., 0.],\n",
       "       ...,\n",
       "       [0., 0., 1., ..., 0., 0., 0.],\n",
       "       [0., 0., 0., ..., 0., 1., 0.],\n",
       "       [0., 1., 0., ..., 0., 0., 0.]], dtype=float32)"
      ]
     },
     "execution_count": 36,
     "metadata": {},
     "output_type": "execute_result"
    }
   ],
   "source": [
    "y_train"
   ]
  },
  {
   "cell_type": "code",
   "execution_count": 37,
   "id": "korean-sweet",
   "metadata": {},
   "outputs": [
    {
     "data": {
      "text/plain": [
       "array([1., 0., 0., 0., 0., 0., 0., 0.], dtype=float32)"
      ]
     },
     "execution_count": 37,
     "metadata": {},
     "output_type": "execute_result"
    }
   ],
   "source": [
    "y_train[0]"
   ]
  },
  {
   "cell_type": "code",
   "execution_count": 38,
   "id": "accredited-archives",
   "metadata": {},
   "outputs": [
    {
     "data": {
      "image/png": "[encoded data removed]",
      "text/plain": [
       "<Figure size 432x288 with 1 Axes>"
      ]
     },
     "metadata": {
      "needs_background": "light"
     },
     "output_type": "display_data"
    }
   ],
   "source": [
    "#Veamos una imagen del x_train #.astype('uint8')\n",
    "x_train_image=np.array(x_train[100],dtype='float32')\n",
    "plt.axis(\"off\")\n",
    "plt.imshow(cv2.cvtColor(x_train_image, cv2.COLOR_BGR2RGB))\n",
    "plt.show()\n"
   ]
  },
  {
   "cell_type": "code",
   "execution_count": 39,
   "id": "surprised-raleigh",
   "metadata": {},
   "outputs": [
    {
     "data": {
      "image/png": "[encoded data removed]",
      "text/plain": [
       "<Figure size 432x288 with 1 Axes>"
      ]
     },
     "metadata": {
      "needs_background": "light"
     },
     "output_type": "display_data"
    }
   ],
   "source": [
    "#Veamos una imagen del x_test #.astype('uint8')\n",
    "x_train_image=np.array(x_test[100],dtype='float32')\n",
    "plt.axis(\"off\")\n",
    "plt.imshow(cv2.cvtColor(x_train_image, cv2.COLOR_BGR2RGB))\n",
    "plt.show()\n"
   ]
  },
  {
   "cell_type": "code",
   "execution_count": 40,
   "id": "constant-millennium",
   "metadata": {},
   "outputs": [
    {
     "data": {
      "text/plain": [
       "(2508, 96, 96, 3)"
      ]
     },
     "execution_count": 40,
     "metadata": {},
     "output_type": "execute_result"
    }
   ],
   "source": [
    "x_test.shape"
   ]
  },
  {
   "cell_type": "code",
   "execution_count": null,
   "id": "tracked-observer",
   "metadata": {},
   "outputs": [],
   "source": []
  },
  {
   "cell_type": "code",
   "execution_count": null,
   "id": "ranking-antique",
   "metadata": {},
   "outputs": [],
   "source": []
  },
  {
   "cell_type": "code",
   "execution_count": 41,
   "id": "hollywood-typing",
   "metadata": {},
   "outputs": [
    {
     "data": {
      "text/plain": [
       "array([0.47843137, 0.58039216, 0.81960784, ..., 0.39215686, 0.52941176,\n",
       "       0.78823529])"
      ]
     },
     "execution_count": 41,
     "metadata": {},
     "output_type": "execute_result"
    }
   ],
   "source": [
    "#Hacemos reshape al array RGB para tener un solo array que represente la imagen\n",
    "x_train.shape\n",
    "x_train=x_train.reshape(x_train.shape[0],x_train.shape[1]*x_train.shape[2]*x_train.shape[3])\n",
    "x_train[1]\n",
    "\n",
    "x_test.shape\n",
    "x_test=x_test.reshape(x_test.shape[0],x_test.shape[1]*x_test.shape[2]*x_test.shape[3])\n",
    "x_test[1]\n"
   ]
  },
  {
   "cell_type": "code",
   "execution_count": 42,
   "id": "artistic-assistant",
   "metadata": {
    "scrolled": true
   },
   "outputs": [
    {
     "data": {
      "text/plain": [
       "(10031, 27648)"
      ]
     },
     "execution_count": 42,
     "metadata": {},
     "output_type": "execute_result"
    }
   ],
   "source": [
    "x_train.shape"
   ]
  },
  {
   "cell_type": "code",
   "execution_count": 43,
   "id": "expressed-riverside",
   "metadata": {},
   "outputs": [
    {
     "data": {
      "text/plain": [
       "(2508, 27648)"
      ]
     },
     "execution_count": 43,
     "metadata": {},
     "output_type": "execute_result"
    }
   ],
   "source": [
    "x_test.shape"
   ]
  },
  {
   "cell_type": "code",
   "execution_count": 44,
   "id": "interpreted-birth",
   "metadata": {},
   "outputs": [],
   "source": [
    "#Escalaciòn de los valores\n",
    "from sklearn.preprocessing import MinMaxScaler\n",
    "scaler=MinMaxScaler(feature_range=(-0.5,0.5))"
   ]
  },
  {
   "cell_type": "code",
   "execution_count": 45,
   "id": "worldwide-target",
   "metadata": {},
   "outputs": [],
   "source": [
    "x_train_sc=scaler.fit_transform(x_train)\n",
    "x_test_sc=scaler.fit_transform(x_test)"
   ]
  },
  {
   "cell_type": "code",
   "execution_count": 46,
   "id": "fatty-tanzania",
   "metadata": {},
   "outputs": [
    {
     "data": {
      "text/plain": [
       "(10031, 27648)"
      ]
     },
     "execution_count": 46,
     "metadata": {},
     "output_type": "execute_result"
    }
   ],
   "source": [
    "x_train_sc.shape"
   ]
  },
  {
   "cell_type": "code",
   "execution_count": 47,
   "id": "infectious-socket",
   "metadata": {},
   "outputs": [
    {
     "data": {
      "text/plain": [
       "(2508, 27648)"
      ]
     },
     "execution_count": 47,
     "metadata": {},
     "output_type": "execute_result"
    }
   ],
   "source": [
    "x_test_sc.shape"
   ]
  },
  {
   "cell_type": "markdown",
   "id": "aggressive-monday",
   "metadata": {},
   "source": []
  },
  {
   "cell_type": "code",
   "execution_count": null,
   "id": "committed-illness",
   "metadata": {},
   "outputs": [],
   "source": [
    "\n"
   ]
  },
  {
   "cell_type": "markdown",
   "id": "direct-cutting",
   "metadata": {},
   "source": [
    "## MODELADO"
   ]
  },
  {
   "cell_type": "code",
   "execution_count": 48,
   "id": "hired-clinic",
   "metadata": {},
   "outputs": [],
   "source": [
    "def buildModelSimple(dimInputs,entryLayerNeurons):\n",
    "    model = Sequential()\n",
    "\n",
    "    model.add(Dense (input_dim=dimInputs,units=entryLayerNeurons,activation='relu'))\n",
    "    model.add(Dense (input_dim=np.unique(labels)/2,units=entryLayerNeurons/2,activation='relu'))\n",
    "    model.add(Dense (input_dim=np.unique(labels)/2,units=entryLayerNeurons/4,activation='relu'))\n",
    "    model.add(Dense(units=len(np.unique(labels)),activation='softmax'))\n",
    "    \n",
    "    return model"
   ]
  },
  {
   "cell_type": "code",
   "execution_count": 49,
   "id": "insured-stream",
   "metadata": {},
   "outputs": [],
   "source": [
    "def buildModel(width,height,depth,classes):\n",
    "    model= Sequential()\n",
    "    inputShape = (height,width,depth)\n",
    "    chanDim=-1\n",
    "    \n",
    "    if (K.image_data_format() == \"channels_first\"): #Returns a string, either 'channels_first' or 'channels_last'\n",
    "        inputShape = (depth, height, width)\n",
    "        chanDim = 1\n",
    "    \n",
    "    # The axis that should be normalized, after a Conv2D layer with data_format=\"channels_first\", \n",
    "    # set axis=1 in BatchNormalization.\n",
    "\n",
    "    model.add(Conv2D(32, (3,3), padding=\"same\", input_shape=inputShape))\n",
    "    model.add(Activation(\"relu\"))\n",
    "    model.add(BatchNormalization(axis=chanDim))\n",
    "    model.add(MaxPooling2D(pool_size=(3,3)))\n",
    "    model.add(Dropout(0.25))\n",
    "\n",
    "    model.add(Conv2D(64, (3,3), padding=\"same\"))\n",
    "    model.add(Activation(\"relu\"))\n",
    "    model.add(BatchNormalization(axis=chanDim))\n",
    "\n",
    "    model.add(Conv2D(64, (3,3), padding=\"same\"))\n",
    "    model.add(Activation(\"relu\"))\n",
    "    model.add(BatchNormalization(axis=chanDim))\n",
    "    model.add(MaxPooling2D(pool_size=(2,2)))\n",
    "    model.add(Dropout(0.25))\n",
    "\n",
    "    model.add(Conv2D(128, (3,3), padding=\"same\"))\n",
    "    model.add(Activation(\"relu\"))\n",
    "    model.add(BatchNormalization(axis=chanDim))\n",
    "\n",
    "    model.add(Conv2D(128, (3,3), padding=\"same\"))\n",
    "    model.add(Activation(\"relu\"))\n",
    "    model.add(BatchNormalization(axis=chanDim))\n",
    "    model.add(MaxPooling2D(pool_size=(2,2)))\n",
    "    model.add(Dropout(0.25))\n",
    "\n",
    "    model.add(Flatten())\n",
    "    model.add(Dense(1024))\n",
    "    model.add(Activation(\"relu\"))\n",
    "    model.add(BatchNormalization())\n",
    "    model.add(Dropout(0.5))\n",
    "\n",
    "    model.add(Dense(classes))\n",
    "    model.add(Activation(\"sigmoid\"))\n",
    "\n",
    "    return model\n"
   ]
  },
  {
   "cell_type": "code",
   "execution_count": 50,
   "id": "sufficient-motion",
   "metadata": {},
   "outputs": [
    {
     "data": {
      "text/plain": [
       "(2508, 27648)"
      ]
     },
     "execution_count": 50,
     "metadata": {},
     "output_type": "execute_result"
    }
   ],
   "source": [
    "x_test_sc.shape"
   ]
  },
  {
   "cell_type": "code",
   "execution_count": 51,
   "id": "alternative-forest",
   "metadata": {},
   "outputs": [],
   "source": [
    "# build model\n",
    "#model = buildModel(width=IMG_DIMS[0], height=IMG_DIMS[1], depth=IMG_DIMS[2],classes=2)\n",
    "#opt = Adam(lr=LR, decay=LR/EPOCS)\n",
    "#model.compile(loss=\"binary_crossentropy\", optimizer=opt, metrics=[\"accuracy\"])\n",
    "\n",
    "model = buildModelSimple(x_test_sc.shape[1],60)\n",
    "# compile the model\n",
    "model.compile(loss='mse', optimizer=keras.optimizers.SGD(lr=LR),metrics=['accuracy'])\n",
    "#model.compile(loss='binary_crossentropy', optimizer=keras.optimizers.SGD(lr=LR),metrics=['accuracy'])\n"
   ]
  },
  {
   "cell_type": "markdown",
   "id": "distinguished-monster",
   "metadata": {},
   "source": [
    "### Entrenar el modelo"
   ]
  },
  {
   "cell_type": "code",
   "execution_count": 52,
   "id": "tender-accounting",
   "metadata": {},
   "outputs": [
    {
     "data": {
      "text/plain": [
       "array([[-0.38235294, -0.38235294, -0.32745098, ...,  0.44509804,\n",
       "        -0.28039216, -0.33529412],\n",
       "       [-0.03333333,  0.06862745,  0.3       , ..., -0.30784314,\n",
       "         0.07647059,  0.26470588],\n",
       "       [ 0.06862745,  0.05686275,  0.02941176, ...,  0.08431373,\n",
       "        -0.10392157,  0.17058824],\n",
       "       ...,\n",
       "       [ 0.10784314,  0.12745098,  0.1627451 , ..., -0.07254902,\n",
       "        -0.17058824,  0.49607843],\n",
       "       [-0.2372549 , -0.10392157, -0.20196078, ...,  0.00980392,\n",
       "         0.01764706,  0.15490196],\n",
       "       [-0.30392157, -0.23333333,  0.11176471, ..., -0.06862745,\n",
       "         0.1       ,  0.3745098 ]])"
      ]
     },
     "execution_count": 52,
     "metadata": {},
     "output_type": "execute_result"
    }
   ],
   "source": [
    "x_train_sc"
   ]
  },
  {
   "cell_type": "code",
   "execution_count": 53,
   "id": "scientific-yukon",
   "metadata": {},
   "outputs": [
    {
     "data": {
      "text/plain": [
       "array([[1., 0., 0., ..., 0., 0., 0.],\n",
       "       [1., 0., 0., ..., 0., 0., 0.],\n",
       "       [1., 0., 0., ..., 0., 0., 0.],\n",
       "       ...,\n",
       "       [0., 0., 1., ..., 0., 0., 0.],\n",
       "       [0., 0., 0., ..., 0., 1., 0.],\n",
       "       [0., 1., 0., ..., 0., 0., 0.]], dtype=float32)"
      ]
     },
     "execution_count": 53,
     "metadata": {},
     "output_type": "execute_result"
    }
   ],
   "source": [
    "y_train"
   ]
  },
  {
   "cell_type": "code",
   "execution_count": 54,
   "id": "dependent-bacteria",
   "metadata": {},
   "outputs": [
    {
     "data": {
      "text/plain": [
       "array([[-0.26862745, -0.12745098,  0.06862745, ..., -0.11176471,\n",
       "        -0.04901961,  0.12745098],\n",
       "       [-0.02156863,  0.08039216,  0.31960784, ..., -0.10784314,\n",
       "         0.02941176,  0.28823529],\n",
       "       [-0.45686275, -0.44509804, -0.41372549, ...,  0.5       ,\n",
       "         0.5       ,  0.5       ],\n",
       "       ...,\n",
       "       [-0.06078431, -0.11568627, -0.04509804, ..., -0.44117647,\n",
       "        -0.37843137, -0.40588235],\n",
       "       [-0.22941176, -0.11568627,  0.08431373, ..., -0.38235294,\n",
       "        -0.3       , -0.37843137],\n",
       "       [-0.24509804, -0.20588235, -0.10392157, ..., -0.4372549 ,\n",
       "        -0.44117647, -0.4254902 ]])"
      ]
     },
     "execution_count": 54,
     "metadata": {},
     "output_type": "execute_result"
    }
   ],
   "source": [
    "x_test_sc"
   ]
  },
  {
   "cell_type": "code",
   "execution_count": 55,
   "id": "comic-biology",
   "metadata": {},
   "outputs": [
    {
     "data": {
      "text/plain": [
       "array([[1., 0., 0., ..., 0., 0., 0.],\n",
       "       [1., 0., 0., ..., 0., 0., 0.],\n",
       "       [0., 0., 0., ..., 0., 0., 1.],\n",
       "       ...,\n",
       "       [0., 0., 1., ..., 0., 0., 0.],\n",
       "       [0., 0., 0., ..., 1., 0., 0.],\n",
       "       [0., 0., 0., ..., 0., 1., 0.]], dtype=float32)"
      ]
     },
     "execution_count": 55,
     "metadata": {},
     "output_type": "execute_result"
    }
   ],
   "source": [
    "y_test"
   ]
  },
  {
   "cell_type": "code",
   "execution_count": 56,
   "id": "electoral-aerospace",
   "metadata": {
    "scrolled": true
   },
   "outputs": [
    {
     "data": {
      "text/plain": [
       "(10031, 27648)"
      ]
     },
     "execution_count": 56,
     "metadata": {},
     "output_type": "execute_result"
    }
   ],
   "source": [
    "x_train_sc.shape"
   ]
  },
  {
   "cell_type": "code",
   "execution_count": 57,
   "id": "ambient-black",
   "metadata": {},
   "outputs": [
    {
     "data": {
      "text/plain": [
       "10031"
      ]
     },
     "execution_count": 57,
     "metadata": {},
     "output_type": "execute_result"
    }
   ],
   "source": [
    "x_train_sc.shape[0]"
   ]
  },
  {
   "cell_type": "code",
   "execution_count": 58,
   "id": "joint-graham",
   "metadata": {
    "scrolled": true
   },
   "outputs": [
    {
     "data": {
      "text/plain": [
       "(10031, 8)"
      ]
     },
     "execution_count": 58,
     "metadata": {},
     "output_type": "execute_result"
    }
   ],
   "source": [
    "y_train.shape"
   ]
  },
  {
   "cell_type": "code",
   "execution_count": 59,
   "id": "voluntary-dragon",
   "metadata": {},
   "outputs": [
    {
     "data": {
      "text/plain": [
       "(2508, 27648)"
      ]
     },
     "execution_count": 59,
     "metadata": {},
     "output_type": "execute_result"
    }
   ],
   "source": [
    "x_test.shape"
   ]
  },
  {
   "cell_type": "code",
   "execution_count": null,
   "id": "about-effort",
   "metadata": {},
   "outputs": [
    {
     "name": "stdout",
     "output_type": "stream",
     "text": [
      "Epoch 1/100\n",
      "627/627 [==============================] - 9s 11ms/step - loss: 0.0962 - accuracy: 0.3750\n",
      "Epoch 2/100\n",
      "627/627 [==============================] - 7s 11ms/step - loss: 0.0832 - accuracy: 0.4676\n",
      "Epoch 3/100\n",
      "627/627 [==============================] - 7s 10ms/step - loss: 0.0781 - accuracy: 0.5011\n",
      "Epoch 4/100\n",
      "627/627 [==============================] - 6s 10ms/step - loss: 0.0751 - accuracy: 0.5225\n",
      "Epoch 5/100\n",
      "627/627 [==============================] - 7s 11ms/step - loss: 0.0735 - accuracy: 0.5293\n",
      "Epoch 6/100\n",
      "627/627 [==============================] - 6s 10ms/step - loss: 0.0725 - accuracy: 0.5402\n",
      "Epoch 7/100\n",
      "627/627 [==============================] - 6s 10ms/step - loss: 0.0693 - accuracy: 0.5651\n",
      "Epoch 8/100\n",
      "627/627 [==============================] - 6s 10ms/step - loss: 0.0684 - accuracy: 0.5689\n",
      "Epoch 9/100\n",
      "627/627 [==============================] - 6s 10ms/step - loss: 0.0671 - accuracy: 0.5714\n",
      "Epoch 10/100\n",
      "627/627 [==============================] - 6s 10ms/step - loss: 0.0669 - accuracy: 0.5792\n",
      "Epoch 11/100\n",
      "627/627 [==============================] - 7s 10ms/step - loss: 0.0661 - accuracy: 0.5900\n",
      "Epoch 12/100\n",
      "627/627 [==============================] - 7s 12ms/step - loss: 0.0648 - accuracy: 0.5996\n",
      "Epoch 13/100\n",
      "627/627 [==============================] - 8s 12ms/step - loss: 0.0626 - accuracy: 0.6130\n",
      "Epoch 14/100\n",
      "627/627 [==============================] - 9s 14ms/step - loss: 0.0628 - accuracy: 0.6119\n",
      "Epoch 15/100\n",
      "627/627 [==============================] - 8s 13ms/step - loss: 0.0616 - accuracy: 0.6187\n",
      "Epoch 16/100\n",
      "627/627 [==============================] - 8s 13ms/step - loss: 0.0609 - accuracy: 0.6233\n",
      "Epoch 17/100\n",
      "627/627 [==============================] - 8s 13ms/step - loss: 0.0588 - accuracy: 0.6408\n",
      "Epoch 18/100\n",
      "627/627 [==============================] - 8s 13ms/step - loss: 0.0589 - accuracy: 0.6428\n",
      "Epoch 19/100\n",
      "627/627 [==============================] - 8s 13ms/step - loss: 0.0579 - accuracy: 0.6492\n",
      "Epoch 20/100\n",
      "627/627 [==============================] - 9s 14ms/step - loss: 0.0573 - accuracy: 0.6574\n",
      "Epoch 21/100\n",
      "627/627 [==============================] - 11s 18ms/step - loss: 0.0566 - accuracy: 0.6595\n",
      "Epoch 22/100\n",
      "627/627 [==============================] - 12s 19ms/step - loss: 0.0574 - accuracy: 0.6513\n",
      "Epoch 23/100\n",
      "627/627 [==============================] - 10s 16ms/step - loss: 0.0560 - accuracy: 0.6642\n",
      "Epoch 24/100\n",
      "627/627 [==============================] - 9s 15ms/step - loss: 0.0533 - accuracy: 0.6736\n",
      "Epoch 25/100\n",
      "627/627 [==============================] - 9s 15ms/step - loss: 0.0529 - accuracy: 0.6869\n",
      "Epoch 26/100\n",
      "627/627 [==============================] - 9s 15ms/step - loss: 0.0534 - accuracy: 0.6801\n",
      "Epoch 27/100\n",
      "627/627 [==============================] - 10s 17ms/step - loss: 0.0523 - accuracy: 0.6945\n",
      "Epoch 28/100\n",
      "627/627 [==============================] - 13s 20ms/step - loss: 0.0512 - accuracy: 0.6971\n",
      "Epoch 29/100\n",
      "627/627 [==============================] - 13s 20ms/step - loss: 0.0523 - accuracy: 0.6916\n",
      "Epoch 30/100\n",
      "627/627 [==============================] - 9s 15ms/step - loss: 0.0509 - accuracy: 0.6988\n",
      "Epoch 31/100\n",
      "627/627 [==============================] - 9s 14ms/step - loss: 0.0497 - accuracy: 0.7124\n",
      "Epoch 32/100\n",
      "627/627 [==============================] - 9s 15ms/step - loss: 0.0511 - accuracy: 0.7011\n",
      "Epoch 33/100\n",
      "627/627 [==============================] - 9s 15ms/step - loss: 0.0492 - accuracy: 0.7061\n",
      "Epoch 34/100\n",
      "627/627 [==============================] - 9s 14ms/step - loss: 0.0485 - accuracy: 0.7139\n",
      "Epoch 35/100\n",
      "627/627 [==============================] - 9s 15ms/step - loss: 0.0479 - accuracy: 0.7282 0s - los\n",
      "Epoch 36/100\n",
      "627/627 [==============================] - 10s 16ms/step - loss: 0.0469 - accuracy: 0.7251\n",
      "Epoch 37/100\n",
      "627/627 [==============================] - 9s 15ms/step - loss: 0.0471 - accuracy: 0.7205\n",
      "Epoch 38/100\n",
      "627/627 [==============================] - 10s 16ms/step - loss: 0.0467 - accuracy: 0.7345\n",
      "Epoch 39/100\n",
      "627/627 [==============================] - 13s 21ms/step - loss: 0.0456 - accuracy: 0.7371\n",
      "Epoch 40/100\n",
      "627/627 [==============================] - 10s 16ms/step - loss: 0.0468 - accuracy: 0.7302\n",
      "Epoch 41/100\n",
      "627/627 [==============================] - 11s 18ms/step - loss: 0.0471 - accuracy: 0.7247\n",
      "Epoch 42/100\n",
      "627/627 [==============================] - 11s 17ms/step - loss: 0.0453 - accuracy: 0.73610s - loss: 0.0452 \n",
      "Epoch 43/100\n",
      "627/627 [==============================] - 10s 17ms/step - loss: 0.0443 - accuracy: 0.7472\n",
      "Epoch 44/100\n",
      "627/627 [==============================] - 10s 17ms/step - loss: 0.0440 - accuracy: 0.7476\n",
      "Epoch 45/100\n",
      "627/627 [==============================] - 13s 21ms/step - loss: 0.0460 - accuracy: 0.7357\n",
      "Epoch 46/100\n",
      "627/627 [==============================] - 14s 22ms/step - loss: 0.0441 - accuracy: 0.7468\n",
      "Epoch 47/100\n",
      "627/627 [==============================] - 11s 17ms/step - loss: 0.0427 - accuracy: 0.7555\n",
      "Epoch 48/100\n",
      "219/627 [=========>....................] - ETA: 6s - loss: 0.0423 - accuracy: 0.7685"
     ]
    }
   ],
   "source": [
    "# train the model\n",
    "#x_train_sc_extended=x_train_sc.reshape(x_train_sc.shape[0],IMG_DIMS[0],IMG_DIMS[1],IMG_DIMS[2])\n",
    "#x_test_extended=x_test.reshape(x_test.shape[0],IMG_DIMS[0],IMG_DIMS[1],IMG_DIMS[2])\n",
    "\n",
    "#history = model.fit_generator(aug.flow(x_train_sc_extended, y_train, batch_size=BATCH_SIZE), \n",
    "#                              validation_data=(x_test_extended,y_test),\n",
    "#                              steps_per_epoch=len(x_train_sc_extended),\n",
    "#                              epochs=EPOCS, verbose=1)\n",
    "\n",
    "history=model.fit(x_train_sc,y_train,epochs=EPOCS,batch_size=BATCH_SIZE)"
   ]
  },
  {
   "cell_type": "code",
   "execution_count": null,
   "id": "advanced-draft",
   "metadata": {},
   "outputs": [],
   "source": []
  },
  {
   "cell_type": "markdown",
   "id": "alive-phoenix",
   "metadata": {},
   "source": [
    "### Visualizaciòn de la clasificaciòn"
   ]
  },
  {
   "cell_type": "code",
   "execution_count": null,
   "id": "prime-integer",
   "metadata": {},
   "outputs": [],
   "source": [
    "##Visualizacion de la clasificaciòn\n",
    "plt.plot(history.history['accuracy'],label='accuracy')\n",
    "plt.plot(history.history['loss'],label='loss')\n",
    "plt.title('Entrenamiento Clasificacion Genero')\n",
    "plt.xlabel('Epocas')\n",
    "plt.legend(loc='upper left')\n",
    "plt.show()"
   ]
  },
  {
   "cell_type": "markdown",
   "id": "certain-snake",
   "metadata": {},
   "source": [
    "### Salvar el modelo"
   ]
  },
  {
   "cell_type": "code",
   "execution_count": null,
   "id": "pregnant-vegetation",
   "metadata": {},
   "outputs": [],
   "source": [
    "\n",
    "# save the model to disk\n",
    "model.save('age_detection.model')\n",
    "\n",
    "\n",
    "# save plot to disk\n",
    "plt.savefig('plot.png')"
   ]
  },
  {
   "cell_type": "markdown",
   "id": "sublime-philip",
   "metadata": {},
   "source": [
    "###### Review following video:\n",
    "https://www.youtube.com/watch?v=WOuAI5DhHyU"
   ]
  },
  {
   "cell_type": "markdown",
   "id": "thousand-liability",
   "metadata": {},
   "source": [
    "### Evaluar el modelo"
   ]
  },
  {
   "cell_type": "code",
   "execution_count": null,
   "id": "adolescent-combining",
   "metadata": {},
   "outputs": [],
   "source": [
    "#Evaluar el modelo\n",
    "model.evaluate(x_test_sc,y_test,verbose=1)"
   ]
  },
  {
   "cell_type": "code",
   "execution_count": null,
   "id": "returning-scottish",
   "metadata": {},
   "outputs": [],
   "source": []
  },
  {
   "cell_type": "code",
   "execution_count": null,
   "id": "turkish-budapest",
   "metadata": {},
   "outputs": [],
   "source": []
  },
  {
   "cell_type": "markdown",
   "id": "purple-correlation",
   "metadata": {},
   "source": [
    "### Predecir"
   ]
  },
  {
   "cell_type": "code",
   "execution_count": null,
   "id": "concrete-despite",
   "metadata": {},
   "outputs": [],
   "source": [
    "def predictAgeRange(testToPredict):\n",
    "    toint=(model.predict(testToPredict)).round()\n",
    "    int_test=toint.astype('int')\n",
    "    categoria_predecida = int_test.argmax()\n",
    "    return categoria_predecida\n"
   ]
  },
  {
   "cell_type": "code",
   "execution_count": null,
   "id": "federal-timber",
   "metadata": {},
   "outputs": [],
   "source": [
    "#Imagen a predecir\n",
    "imgToPredict=x_test[2].reshape(IMG_DIMS[0],IMG_DIMS[1],IMG_DIMS[2])\n",
    "x_train_image=np.array(imgToPredict,dtype='float32')\n",
    "plt.axis(\"off\")\n",
    "plt.imshow(cv2.cvtColor(x_train_image, cv2.COLOR_BGR2RGB))\n",
    "plt.show()"
   ]
  },
  {
   "cell_type": "code",
   "execution_count": null,
   "id": "convinced-greece",
   "metadata": {},
   "outputs": [],
   "source": [
    "y_test[2]"
   ]
  },
  {
   "cell_type": "code",
   "execution_count": null,
   "id": "distinct-relaxation",
   "metadata": {},
   "outputs": [],
   "source": [
    "x_test[102].shape"
   ]
  },
  {
   "cell_type": "code",
   "execution_count": null,
   "id": "arabic-auditor",
   "metadata": {},
   "outputs": [],
   "source": [
    "testToPredict=x_test[2].reshape(1,IMG_DIMS[0]*IMG_DIMS[1]*IMG_DIMS[2])\n",
    "testToPredict.shape"
   ]
  },
  {
   "cell_type": "code",
   "execution_count": null,
   "id": "assumed-identifier",
   "metadata": {},
   "outputs": [],
   "source": [
    "(model.predict(testToPredict)).round()"
   ]
  },
  {
   "cell_type": "code",
   "execution_count": null,
   "id": "sharp-lotus",
   "metadata": {},
   "outputs": [],
   "source": [
    "encoder.classes_[0]"
   ]
  },
  {
   "cell_type": "code",
   "execution_count": null,
   "id": "young-brazil",
   "metadata": {},
   "outputs": [],
   "source": [
    "predictAgeRange(testToPredict)"
   ]
  },
  {
   "cell_type": "code",
   "execution_count": null,
   "id": "dramatic-hanging",
   "metadata": {
    "scrolled": false
   },
   "outputs": [],
   "source": [
    "print (\"El rango de edad predecida es : \", encoder.classes_[predictAgeRange(testToPredict)])"
   ]
  },
  {
   "cell_type": "code",
   "execution_count": null,
   "id": "annoying-privacy",
   "metadata": {},
   "outputs": [],
   "source": []
  },
  {
   "cell_type": "code",
   "execution_count": null,
   "id": "attempted-analysis",
   "metadata": {},
   "outputs": [],
   "source": [
    "i = int(0)\n",
    "for testToPredict in (x_test):\n",
    "    imgToPredict=x_test[i].reshape(IMG_DIMS[0],IMG_DIMS[1],IMG_DIMS[2])\n",
    "    x_train_image=np.array(imgToPredict,dtype='float32')\n",
    "    plt.axis(\"off\")\n",
    "    plt.imshow(cv2.cvtColor(x_train_image, cv2.COLOR_BGR2RGB))\n",
    "    plt.show()\n",
    "    \n",
    "    testToPredict=x_test[i].reshape(1,IMG_DIMS[0]*IMG_DIMS[1]*IMG_DIMS[2])\n",
    "    print (\"La categoria predecida es : \", encoder.classes_[predictAgeRange(testToPredict)])\n",
    "    #time.sleep(2000)\n",
    "    i=i+1"
   ]
  },
  {
   "cell_type": "code",
   "execution_count": null,
   "id": "fourth-diesel",
   "metadata": {},
   "outputs": [],
   "source": []
  },
  {
   "cell_type": "code",
   "execution_count": null,
   "id": "inclusive-scholar",
   "metadata": {},
   "outputs": [],
   "source": []
  },
  {
   "cell_type": "code",
   "execution_count": null,
   "id": "proof-manor",
   "metadata": {},
   "outputs": [],
   "source": []
  },
  {
   "cell_type": "code",
   "execution_count": null,
   "id": "suited-fossil",
   "metadata": {},
   "outputs": [],
   "source": []
  },
  {
   "cell_type": "code",
   "execution_count": null,
   "id": "original-reunion",
   "metadata": {},
   "outputs": [],
   "source": []
  },
  {
   "cell_type": "code",
   "execution_count": null,
   "id": "extensive-gamma",
   "metadata": {},
   "outputs": [],
   "source": []
  },
  {
   "cell_type": "code",
   "execution_count": null,
   "id": "blond-smile",
   "metadata": {},
   "outputs": [],
   "source": []
  },
  {
   "cell_type": "code",
   "execution_count": null,
   "id": "premier-skating",
   "metadata": {},
   "outputs": [],
   "source": []
  },
  {
   "cell_type": "code",
   "execution_count": null,
   "id": "rural-cause",
   "metadata": {},
   "outputs": [],
   "source": []
  },
  {
   "cell_type": "code",
   "execution_count": null,
   "id": "silent-munich",
   "metadata": {},
   "outputs": [],
   "source": []
  },
  {
   "cell_type": "code",
   "execution_count": null,
   "id": "angry-bulletin",
   "metadata": {},
   "outputs": [],
   "source": []
  }
 ],
 "metadata": {
  "kernelspec": {
   "display_name": "env_ia",
   "language": "python",
   "name": "env_ia"
  },
  "language_info": {
   "codemirror_mode": {
    "name": "ipython",
    "version": 3
   },
   "file_extension": ".py",
   "mimetype": "text/x-python",
   "name": "python",
   "nbconvert_exporter": "python",
   "pygments_lexer": "ipython3",
   "version": "3.8.8"
  }
 },
 "nbformat": 4,
 "nbformat_minor": 5
}
